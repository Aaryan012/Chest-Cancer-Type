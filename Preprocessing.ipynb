{
 "cells": [
  {
   "cell_type": "code",
   "execution_count": 116,
   "id": "71ad6210-31e2-45ef-a5d4-4604f6e689a0",
   "metadata": {},
   "outputs": [],
   "source": [
    "import pandas as pd\n",
    "import numpy as np\n",
    "import matplotlib.pyplot as plt\n",
    "import seaborn as sns\n",
    "import cv2\n",
    "import os"
   ]
  },
  {
   "cell_type": "code",
   "execution_count": 117,
   "id": "33e325b2-8991-4cee-81f4-93dac5a04584",
   "metadata": {},
   "outputs": [
    {
     "data": {
      "text/html": [
       "<div>\n",
       "<style scoped>\n",
       "    .dataframe tbody tr th:only-of-type {\n",
       "        vertical-align: middle;\n",
       "    }\n",
       "\n",
       "    .dataframe tbody tr th {\n",
       "        vertical-align: top;\n",
       "    }\n",
       "\n",
       "    .dataframe thead th {\n",
       "        text-align: right;\n",
       "    }\n",
       "</style>\n",
       "<table border=\"1\" class=\"dataframe\">\n",
       "  <thead>\n",
       "    <tr style=\"text-align: right;\">\n",
       "      <th></th>\n",
       "      <th>adenocarcinoma</th>\n",
       "      <th>large.cell.carcinoma</th>\n",
       "      <th>normal</th>\n",
       "      <th>squamous.cell.carcinoma</th>\n",
       "    </tr>\n",
       "  </thead>\n",
       "  <tbody>\n",
       "    <tr>\n",
       "      <th>0</th>\n",
       "      <td>C:\\Users\\rnkha\\OneDrive\\Desktop\\Gajedi\\CT_Scan...</td>\n",
       "      <td>C:\\Users\\rnkha\\OneDrive\\Desktop\\Gajedi\\CT_Scan...</td>\n",
       "      <td>C:\\Users\\rnkha\\OneDrive\\Desktop\\Gajedi\\CT_Scan...</td>\n",
       "      <td>C:\\Users\\rnkha\\OneDrive\\Desktop\\Gajedi\\CT_Scan...</td>\n",
       "    </tr>\n",
       "    <tr>\n",
       "      <th>1</th>\n",
       "      <td>C:\\Users\\rnkha\\OneDrive\\Desktop\\Gajedi\\CT_Scan...</td>\n",
       "      <td>C:\\Users\\rnkha\\OneDrive\\Desktop\\Gajedi\\CT_Scan...</td>\n",
       "      <td>C:\\Users\\rnkha\\OneDrive\\Desktop\\Gajedi\\CT_Scan...</td>\n",
       "      <td>C:\\Users\\rnkha\\OneDrive\\Desktop\\Gajedi\\CT_Scan...</td>\n",
       "    </tr>\n",
       "    <tr>\n",
       "      <th>2</th>\n",
       "      <td>C:\\Users\\rnkha\\OneDrive\\Desktop\\Gajedi\\CT_Scan...</td>\n",
       "      <td>C:\\Users\\rnkha\\OneDrive\\Desktop\\Gajedi\\CT_Scan...</td>\n",
       "      <td>C:\\Users\\rnkha\\OneDrive\\Desktop\\Gajedi\\CT_Scan...</td>\n",
       "      <td>C:\\Users\\rnkha\\OneDrive\\Desktop\\Gajedi\\CT_Scan...</td>\n",
       "    </tr>\n",
       "    <tr>\n",
       "      <th>3</th>\n",
       "      <td>C:\\Users\\rnkha\\OneDrive\\Desktop\\Gajedi\\CT_Scan...</td>\n",
       "      <td>C:\\Users\\rnkha\\OneDrive\\Desktop\\Gajedi\\CT_Scan...</td>\n",
       "      <td>C:\\Users\\rnkha\\OneDrive\\Desktop\\Gajedi\\CT_Scan...</td>\n",
       "      <td>C:\\Users\\rnkha\\OneDrive\\Desktop\\Gajedi\\CT_Scan...</td>\n",
       "    </tr>\n",
       "    <tr>\n",
       "      <th>4</th>\n",
       "      <td>C:\\Users\\rnkha\\OneDrive\\Desktop\\Gajedi\\CT_Scan...</td>\n",
       "      <td>C:\\Users\\rnkha\\OneDrive\\Desktop\\Gajedi\\CT_Scan...</td>\n",
       "      <td>C:\\Users\\rnkha\\OneDrive\\Desktop\\Gajedi\\CT_Scan...</td>\n",
       "      <td>C:\\Users\\rnkha\\OneDrive\\Desktop\\Gajedi\\CT_Scan...</td>\n",
       "    </tr>\n",
       "    <tr>\n",
       "      <th>...</th>\n",
       "      <td>...</td>\n",
       "      <td>...</td>\n",
       "      <td>...</td>\n",
       "      <td>...</td>\n",
       "    </tr>\n",
       "    <tr>\n",
       "      <th>333</th>\n",
       "      <td>C:\\Users\\rnkha\\OneDrive\\Desktop\\Gajedi\\CT_Scan...</td>\n",
       "      <td>C:\\Users\\rnkha\\OneDrive\\Desktop\\Gajedi\\CT_Scan...</td>\n",
       "      <td>C:\\Users\\rnkha\\OneDrive\\Desktop\\Gajedi\\CT_Scan...</td>\n",
       "      <td>C:\\Users\\rnkha\\OneDrive\\Desktop\\Gajedi\\CT_Scan...</td>\n",
       "    </tr>\n",
       "    <tr>\n",
       "      <th>334</th>\n",
       "      <td>C:\\Users\\rnkha\\OneDrive\\Desktop\\Gajedi\\CT_Scan...</td>\n",
       "      <td>C:\\Users\\rnkha\\OneDrive\\Desktop\\Gajedi\\CT_Scan...</td>\n",
       "      <td>C:\\Users\\rnkha\\OneDrive\\Desktop\\Gajedi\\CT_Scan...</td>\n",
       "      <td>C:\\Users\\rnkha\\OneDrive\\Desktop\\Gajedi\\CT_Scan...</td>\n",
       "    </tr>\n",
       "    <tr>\n",
       "      <th>335</th>\n",
       "      <td>C:\\Users\\rnkha\\OneDrive\\Desktop\\Gajedi\\CT_Scan...</td>\n",
       "      <td>C:\\Users\\rnkha\\OneDrive\\Desktop\\Gajedi\\CT_Scan...</td>\n",
       "      <td>C:\\Users\\rnkha\\OneDrive\\Desktop\\Gajedi\\CT_Scan...</td>\n",
       "      <td>C:\\Users\\rnkha\\OneDrive\\Desktop\\Gajedi\\CT_Scan...</td>\n",
       "    </tr>\n",
       "    <tr>\n",
       "      <th>336</th>\n",
       "      <td>C:\\Users\\rnkha\\OneDrive\\Desktop\\Gajedi\\CT_Scan...</td>\n",
       "      <td>C:\\Users\\rnkha\\OneDrive\\Desktop\\Gajedi\\CT_Scan...</td>\n",
       "      <td>C:\\Users\\rnkha\\OneDrive\\Desktop\\Gajedi\\CT_Scan...</td>\n",
       "      <td>C:\\Users\\rnkha\\OneDrive\\Desktop\\Gajedi\\CT_Scan...</td>\n",
       "    </tr>\n",
       "    <tr>\n",
       "      <th>337</th>\n",
       "      <td>C:\\Users\\rnkha\\OneDrive\\Desktop\\Gajedi\\CT_Scan...</td>\n",
       "      <td>C:\\Users\\rnkha\\OneDrive\\Desktop\\Gajedi\\CT_Scan...</td>\n",
       "      <td>C:\\Users\\rnkha\\OneDrive\\Desktop\\Gajedi\\CT_Scan...</td>\n",
       "      <td>C:\\Users\\rnkha\\OneDrive\\Desktop\\Gajedi\\CT_Scan...</td>\n",
       "    </tr>\n",
       "  </tbody>\n",
       "</table>\n",
       "<p>338 rows × 4 columns</p>\n",
       "</div>"
      ],
      "text/plain": [
       "                                        adenocarcinoma  \\\n",
       "0    C:\\Users\\rnkha\\OneDrive\\Desktop\\Gajedi\\CT_Scan...   \n",
       "1    C:\\Users\\rnkha\\OneDrive\\Desktop\\Gajedi\\CT_Scan...   \n",
       "2    C:\\Users\\rnkha\\OneDrive\\Desktop\\Gajedi\\CT_Scan...   \n",
       "3    C:\\Users\\rnkha\\OneDrive\\Desktop\\Gajedi\\CT_Scan...   \n",
       "4    C:\\Users\\rnkha\\OneDrive\\Desktop\\Gajedi\\CT_Scan...   \n",
       "..                                                 ...   \n",
       "333  C:\\Users\\rnkha\\OneDrive\\Desktop\\Gajedi\\CT_Scan...   \n",
       "334  C:\\Users\\rnkha\\OneDrive\\Desktop\\Gajedi\\CT_Scan...   \n",
       "335  C:\\Users\\rnkha\\OneDrive\\Desktop\\Gajedi\\CT_Scan...   \n",
       "336  C:\\Users\\rnkha\\OneDrive\\Desktop\\Gajedi\\CT_Scan...   \n",
       "337  C:\\Users\\rnkha\\OneDrive\\Desktop\\Gajedi\\CT_Scan...   \n",
       "\n",
       "                                  large.cell.carcinoma  \\\n",
       "0    C:\\Users\\rnkha\\OneDrive\\Desktop\\Gajedi\\CT_Scan...   \n",
       "1    C:\\Users\\rnkha\\OneDrive\\Desktop\\Gajedi\\CT_Scan...   \n",
       "2    C:\\Users\\rnkha\\OneDrive\\Desktop\\Gajedi\\CT_Scan...   \n",
       "3    C:\\Users\\rnkha\\OneDrive\\Desktop\\Gajedi\\CT_Scan...   \n",
       "4    C:\\Users\\rnkha\\OneDrive\\Desktop\\Gajedi\\CT_Scan...   \n",
       "..                                                 ...   \n",
       "333  C:\\Users\\rnkha\\OneDrive\\Desktop\\Gajedi\\CT_Scan...   \n",
       "334  C:\\Users\\rnkha\\OneDrive\\Desktop\\Gajedi\\CT_Scan...   \n",
       "335  C:\\Users\\rnkha\\OneDrive\\Desktop\\Gajedi\\CT_Scan...   \n",
       "336  C:\\Users\\rnkha\\OneDrive\\Desktop\\Gajedi\\CT_Scan...   \n",
       "337  C:\\Users\\rnkha\\OneDrive\\Desktop\\Gajedi\\CT_Scan...   \n",
       "\n",
       "                                                normal  \\\n",
       "0    C:\\Users\\rnkha\\OneDrive\\Desktop\\Gajedi\\CT_Scan...   \n",
       "1    C:\\Users\\rnkha\\OneDrive\\Desktop\\Gajedi\\CT_Scan...   \n",
       "2    C:\\Users\\rnkha\\OneDrive\\Desktop\\Gajedi\\CT_Scan...   \n",
       "3    C:\\Users\\rnkha\\OneDrive\\Desktop\\Gajedi\\CT_Scan...   \n",
       "4    C:\\Users\\rnkha\\OneDrive\\Desktop\\Gajedi\\CT_Scan...   \n",
       "..                                                 ...   \n",
       "333  C:\\Users\\rnkha\\OneDrive\\Desktop\\Gajedi\\CT_Scan...   \n",
       "334  C:\\Users\\rnkha\\OneDrive\\Desktop\\Gajedi\\CT_Scan...   \n",
       "335  C:\\Users\\rnkha\\OneDrive\\Desktop\\Gajedi\\CT_Scan...   \n",
       "336  C:\\Users\\rnkha\\OneDrive\\Desktop\\Gajedi\\CT_Scan...   \n",
       "337  C:\\Users\\rnkha\\OneDrive\\Desktop\\Gajedi\\CT_Scan...   \n",
       "\n",
       "                               squamous.cell.carcinoma  \n",
       "0    C:\\Users\\rnkha\\OneDrive\\Desktop\\Gajedi\\CT_Scan...  \n",
       "1    C:\\Users\\rnkha\\OneDrive\\Desktop\\Gajedi\\CT_Scan...  \n",
       "2    C:\\Users\\rnkha\\OneDrive\\Desktop\\Gajedi\\CT_Scan...  \n",
       "3    C:\\Users\\rnkha\\OneDrive\\Desktop\\Gajedi\\CT_Scan...  \n",
       "4    C:\\Users\\rnkha\\OneDrive\\Desktop\\Gajedi\\CT_Scan...  \n",
       "..                                                 ...  \n",
       "333  C:\\Users\\rnkha\\OneDrive\\Desktop\\Gajedi\\CT_Scan...  \n",
       "334  C:\\Users\\rnkha\\OneDrive\\Desktop\\Gajedi\\CT_Scan...  \n",
       "335  C:\\Users\\rnkha\\OneDrive\\Desktop\\Gajedi\\CT_Scan...  \n",
       "336  C:\\Users\\rnkha\\OneDrive\\Desktop\\Gajedi\\CT_Scan...  \n",
       "337  C:\\Users\\rnkha\\OneDrive\\Desktop\\Gajedi\\CT_Scan...  \n",
       "\n",
       "[338 rows x 4 columns]"
      ]
     },
     "execution_count": 117,
     "metadata": {},
     "output_type": "execute_result"
    }
   ],
   "source": [
    "df=pd.read_csv('ct_scan.csv')\n",
    "df"
   ]
  },
  {
   "cell_type": "code",
   "execution_count": 118,
   "id": "5ff5f447-77e2-4ce6-a0c8-392e60c8233d",
   "metadata": {},
   "outputs": [
    {
     "data": {
      "text/plain": [
       "np.False_"
      ]
     },
     "execution_count": 118,
     "metadata": {},
     "output_type": "execute_result"
    }
   ],
   "source": [
    "df.duplicated().values.any()"
   ]
  },
  {
   "cell_type": "code",
   "execution_count": 119,
   "id": "12c7c73c-e169-45a4-b321-b34ca98071b8",
   "metadata": {},
   "outputs": [
    {
     "data": {
      "text/plain": [
       "np.int64(0)"
      ]
     },
     "execution_count": 119,
     "metadata": {},
     "output_type": "execute_result"
    }
   ],
   "source": [
    "df.isnull().values.sum()"
   ]
  },
  {
   "cell_type": "code",
   "execution_count": 120,
   "id": "8c701da9-c212-45c5-bd30-8dffb3534b3f",
   "metadata": {},
   "outputs": [],
   "source": [
    "# Image Preprocessing\n",
    "def Image_Processing(img_path):\n",
    "    # read img\n",
    "    img=cv2.imread(img_path)\n",
    "    # convert to grayscale\n",
    "    img_gray=cv2.cvtColor(img,cv2.COLOR_BGR2GRAY)\n",
    "    # Resize 100 100\n",
    "    img_resize=cv2.resize(img_gray,(100,100))\n",
    "    # plt.imshow(img_resize)\n",
    "    # Convert to array\n",
    "    img_arr=np.array(img_resize).flatten()\n",
    "    # convert to DataFrame\n",
    "    img_df=pd.DataFrame(img_arr).T\n",
    "    return img_df"
   ]
  },
  {
   "cell_type": "code",
   "execution_count": 121,
   "id": "db2b9dd1-14ce-4e96-b372-eb804a5d0725",
   "metadata": {},
   "outputs": [
    {
     "data": {
      "text/html": [
       "<div>\n",
       "<style scoped>\n",
       "    .dataframe tbody tr th:only-of-type {\n",
       "        vertical-align: middle;\n",
       "    }\n",
       "\n",
       "    .dataframe tbody tr th {\n",
       "        vertical-align: top;\n",
       "    }\n",
       "\n",
       "    .dataframe thead th {\n",
       "        text-align: right;\n",
       "    }\n",
       "</style>\n",
       "<table border=\"1\" class=\"dataframe\">\n",
       "  <thead>\n",
       "    <tr style=\"text-align: right;\">\n",
       "      <th></th>\n",
       "      <th>0</th>\n",
       "      <th>1</th>\n",
       "      <th>2</th>\n",
       "      <th>3</th>\n",
       "      <th>4</th>\n",
       "      <th>5</th>\n",
       "      <th>6</th>\n",
       "      <th>7</th>\n",
       "      <th>8</th>\n",
       "      <th>9</th>\n",
       "      <th>...</th>\n",
       "      <th>9990</th>\n",
       "      <th>9991</th>\n",
       "      <th>9992</th>\n",
       "      <th>9993</th>\n",
       "      <th>9994</th>\n",
       "      <th>9995</th>\n",
       "      <th>9996</th>\n",
       "      <th>9997</th>\n",
       "      <th>9998</th>\n",
       "      <th>9999</th>\n",
       "    </tr>\n",
       "  </thead>\n",
       "  <tbody>\n",
       "    <tr>\n",
       "      <th>0</th>\n",
       "      <td>0</td>\n",
       "      <td>0</td>\n",
       "      <td>0</td>\n",
       "      <td>0</td>\n",
       "      <td>0</td>\n",
       "      <td>0</td>\n",
       "      <td>0</td>\n",
       "      <td>0</td>\n",
       "      <td>0</td>\n",
       "      <td>0</td>\n",
       "      <td>...</td>\n",
       "      <td>10</td>\n",
       "      <td>0</td>\n",
       "      <td>0</td>\n",
       "      <td>0</td>\n",
       "      <td>0</td>\n",
       "      <td>0</td>\n",
       "      <td>0</td>\n",
       "      <td>0</td>\n",
       "      <td>0</td>\n",
       "      <td>0</td>\n",
       "    </tr>\n",
       "  </tbody>\n",
       "</table>\n",
       "<p>1 rows × 10000 columns</p>\n",
       "</div>"
      ],
      "text/plain": [
       "   0     1     2     3     4     5     6     7     8     9     ...  9990  \\\n",
       "0     0     0     0     0     0     0     0     0     0     0  ...    10   \n",
       "\n",
       "   9991  9992  9993  9994  9995  9996  9997  9998  9999  \n",
       "0     0     0     0     0     0     0     0     0     0  \n",
       "\n",
       "[1 rows x 10000 columns]"
      ]
     },
     "execution_count": 121,
     "metadata": {},
     "output_type": "execute_result"
    }
   ],
   "source": [
    "Image_Processing(r'C:\\\\Users\\\\rnkha\\\\OneDrive\\\\Desktop\\\\Gajedi\\\\CT_Scan\\\\img\\\\adenocarcinoma\\\\000000 (6).png')"
   ]
  },
  {
   "cell_type": "code",
   "execution_count": 122,
   "id": "182bde1f-74e1-40ee-8644-2d82850418af",
   "metadata": {},
   "outputs": [],
   "source": [
    "start=0\n",
    "final_df=pd.DataFrame()\n",
    "for i in df.columns:\n",
    "    for images in df[i]:\n",
    "        df_x=Image_Processing(images)\n",
    "        final_df=pd.concat([final_df,df_x],ignore_index=True)\n",
    "    end=len(final_df)\n",
    "    final_df.loc[start:end-1,'Label']=i\n",
    "    start=end"
   ]
  },
  {
   "cell_type": "code",
   "execution_count": 123,
   "id": "6411efbc-4c8d-4a3f-a7be-95155d70c154",
   "metadata": {
    "scrolled": true
   },
   "outputs": [],
   "source": [
    "# final_df=final_df.drop('Label',axis=1)"
   ]
  },
  {
   "cell_type": "code",
   "execution_count": 124,
   "id": "80952081-acaf-4fdf-8c5a-00772c2352b7",
   "metadata": {},
   "outputs": [
    {
     "data": {
      "text/plain": [
       "Label\n",
       "adenocarcinoma             338\n",
       "large.cell.carcinoma       338\n",
       "normal                     338\n",
       "squamous.cell.carcinoma    338\n",
       "Name: count, dtype: int64"
      ]
     },
     "execution_count": 124,
     "metadata": {},
     "output_type": "execute_result"
    }
   ],
   "source": [
    "final_df['Label'].value_counts()"
   ]
  },
  {
   "cell_type": "code",
   "execution_count": 125,
   "id": "e18237e3-4076-44ba-8e71-024067cfe431",
   "metadata": {},
   "outputs": [],
   "source": [
    "final_df.to_csv('Label_CT_Scan.csv',index=False)"
   ]
  },
  {
   "cell_type": "code",
   "execution_count": null,
   "id": "a9d8bd95-8f68-4945-9083-645e5e1960ce",
   "metadata": {},
   "outputs": [],
   "source": []
  }
 ],
 "metadata": {
  "kernelspec": {
   "display_name": "Python 3 (ipykernel)",
   "language": "python",
   "name": "python3"
  },
  "language_info": {
   "codemirror_mode": {
    "name": "ipython",
    "version": 3
   },
   "file_extension": ".py",
   "mimetype": "text/x-python",
   "name": "python",
   "nbconvert_exporter": "python",
   "pygments_lexer": "ipython3",
   "version": "3.13.3"
  }
 },
 "nbformat": 4,
 "nbformat_minor": 5
}
