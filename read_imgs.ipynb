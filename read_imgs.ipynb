{
 "cells": [
  {
   "cell_type": "code",
   "execution_count": 1,
   "id": "651a64cb-57b9-40b5-a43d-06993a62c899",
   "metadata": {},
   "outputs": [],
   "source": [
    "import cv2\n",
    "import numpy as np\n",
    "import pandas as pd\n",
    "import os"
   ]
  },
  {
   "cell_type": "code",
   "execution_count": 11,
   "id": "ba879de7-a01a-48ba-8e3b-792ff69b9ec1",
   "metadata": {},
   "outputs": [],
   "source": [
    "ct_path=r\"C:\\Users\\rnkha\\OneDrive\\Desktop\\Gajedi\\CT_Scan\\img\""
   ]
  },
  {
   "cell_type": "code",
   "execution_count": 12,
   "id": "93f691c9-baf1-4325-82e2-21dd89e2960f",
   "metadata": {},
   "outputs": [
    {
     "data": {
      "text/plain": [
       "['adenocarcinoma', 'large.cell.carcinoma', 'normal', 'squamous.cell.carcinoma']"
      ]
     },
     "execution_count": 12,
     "metadata": {},
     "output_type": "execute_result"
    }
   ],
   "source": [
    "os.listdir(ct_path)"
   ]
  },
  {
   "cell_type": "code",
   "execution_count": 13,
   "id": "12e27bcd-7050-4ede-a48c-55c5e9f96967",
   "metadata": {},
   "outputs": [
    {
     "data": {
      "text/plain": [
       "['adenocarcinoma', 'large.cell.carcinoma', 'normal', 'squamous.cell.carcinoma']"
      ]
     },
     "execution_count": 13,
     "metadata": {},
     "output_type": "execute_result"
    }
   ],
   "source": [
    "labels=os.listdir(ct_path)\n",
    "labels"
   ]
  },
  {
   "cell_type": "code",
   "execution_count": 7,
   "id": "7a0d4957-0ea9-4442-b76d-66bb2e1a5bdf",
   "metadata": {},
   "outputs": [
    {
     "data": {
      "text/plain": [
       "{'adenocarcinoma': None,\n",
       " 'large.cell.carcinoma': None,\n",
       " 'normal': None,\n",
       " 'squamous.cell.carcinoma': None}"
      ]
     },
     "execution_count": 7,
     "metadata": {},
     "output_type": "execute_result"
    }
   ],
   "source": [
    "label_dict=dict.fromkeys(labels)\n",
    "label_dict"
   ]
  },
  {
   "cell_type": "code",
   "execution_count": 15,
   "id": "a69b83f7-f89a-45de-8c16-0e1d1c29f4c2",
   "metadata": {},
   "outputs": [],
   "source": [
    "for label in labels:\n",
    "    label_path=os.path.join(ct_path,label)\n",
    "    # print(label_path)\n",
    "    img_path=[os.path.join(label_path,img) for img in os.listdir(label_path)]\n",
    "    # print(img_path)\n",
    "    label_dict[label]=img_path"
   ]
  },
  {
   "cell_type": "code",
   "execution_count": 22,
   "id": "1a68e128-3b74-4290-b2f9-35e9908d63e8",
   "metadata": {},
   "outputs": [
    {
     "name": "stdout",
     "output_type": "stream",
     "text": [
      "338\n",
      "338\n",
      "338\n",
      "338\n"
     ]
    }
   ],
   "source": [
    "for i in labels:\n",
    "    print(len(label_dict[i]))"
   ]
  },
  {
   "cell_type": "code",
   "execution_count": 21,
   "id": "a2f15b2e-f388-4c2c-ac1c-274e86f5a11c",
   "metadata": {},
   "outputs": [],
   "source": [
    "for i in labels:\n",
    "    n=len(label_dict[i])\n",
    "    while len(label_dict[i])!=338:\n",
    "        sample=np.random.choice(label_dict[i])\n",
    "        label_dict[i].append(sample)"
   ]
  },
  {
   "cell_type": "code",
   "execution_count": 23,
   "id": "d260c927-c099-4659-9c56-465fca7717db",
   "metadata": {},
   "outputs": [],
   "source": [
    "df=pd.DataFrame(label_dict)"
   ]
  },
  {
   "cell_type": "code",
   "execution_count": 25,
   "id": "f0993ee4-396d-4509-9fb4-43367ecbbb04",
   "metadata": {},
   "outputs": [],
   "source": [
    "df.to_csv(\"ct_scan.csv\",index=False)"
   ]
  },
  {
   "cell_type": "code",
   "execution_count": null,
   "id": "4546c518-85c3-406f-b61f-f36e622a2b83",
   "metadata": {},
   "outputs": [],
   "source": []
  }
 ],
 "metadata": {
  "kernelspec": {
   "display_name": "Python 3 (ipykernel)",
   "language": "python",
   "name": "python3"
  },
  "language_info": {
   "codemirror_mode": {
    "name": "ipython",
    "version": 3
   },
   "file_extension": ".py",
   "mimetype": "text/x-python",
   "name": "python",
   "nbconvert_exporter": "python",
   "pygments_lexer": "ipython3",
   "version": "3.13.3"
  }
 },
 "nbformat": 4,
 "nbformat_minor": 5
}
